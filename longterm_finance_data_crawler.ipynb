{
 "cells": [
  {
   "cell_type": "code",
   "execution_count": 6,
   "id": "6e7d5aa5-5e2d-4194-8fcb-7140109692d6",
   "metadata": {},
   "outputs": [],
   "source": [
    "from tqdm import tqdm_notebook\n",
    "from bs4 import BeautifulSoup as bs\n",
    "from selenium import webdriver\n",
    "from selenium.webdriver.common.keys import Keys\n",
    "import selenium\n",
    "import requests\n",
    "import time\n",
    "import config\n",
    "from selenium.webdriver.support.ui import Select\n",
    "from parse import *\n",
    "import numpy as np\n",
    "import pandas as pd\n",
    "import warnings\n",
    "import pyperclip\n",
    "import os"
   ]
  },
  {
   "cell_type": "code",
   "execution_count": 7,
   "id": "6ffcb485-a95c-4bbd-a228-ede714d6e906",
   "metadata": {},
   "outputs": [],
   "source": [
    "warnings.filterwarnings(action='ignore')"
   ]
  },
  {
   "cell_type": "code",
   "execution_count": 8,
   "id": "9fef40ad-bb8f-48a6-a4b7-c3550502489d",
   "metadata": {},
   "outputs": [],
   "source": [
    "options = webdriver.ChromeOptions()\n",
    "#options.add_argument('headless')\n",
    "options.add_argument('window-size=1920x1080')\n",
    "options.add_argument(\"disable-gpu\")\n",
    "options.add_argument(\"user-agent=Mozilla/5.0 (Macintosh; Intel Mac OS X 10_15_7) AppleWebKit/537.36 (KHTML, like Gecko)\")\n",
    "path = \"driver/chromedriver\"\n",
    "driver = webdriver.Chrome(path, options=options)\n",
    "driver.get(\"https://roic.ai\")"
   ]
  },
  {
   "cell_type": "code",
   "execution_count": 11,
   "id": "4c4f92ef-1f5a-4bc2-af73-346e0c4af845",
   "metadata": {},
   "outputs": [],
   "source": [
    "def finance_crawler(nation, market, quarterly):\n",
    "    \n",
    "    stock_list_path = f\"../data/stock/stock_list/{nation}/{market}_list.csv\"\n",
    "\n",
    "    if nation == 'us' :\n",
    "        TICKERS = list(pd.read_csv(stock_list_path)[\"Symbol\"])\n",
    "    elif nation == 'krx' :\n",
    "        if market == 'kospi':\n",
    "            TICKERS = [x+'.KS' for x in list(pd.read_csv(stock_list_path, encoding='euc-kr')[\"단축코드\"])] \n",
    "        elif market == 'kosdaq' :\n",
    "            TICKERS = [x+'.KQ' for x in list(pd.read_csv(stock_list_path, encoding='euc-kr')[\"단축코드\"])] \n",
    "        elif market == 'konex' :\n",
    "            \n",
    "\n",
    "    for i in range(len(TICKERS)) :\n",
    "        try :     \n",
    "            ticker = TICKERS[i]\n",
    "            \n",
    "            if '^' in ticker :\n",
    "                continue\n",
    "            print(ticker, end=' ')\n",
    "            if quarterly == True :\n",
    "                driver.get(f'https://roic.ai/financials/{ticker}?fs=quarterly')\n",
    "            else :\n",
    "                driver.get(f'https://roic.ai/financials/{ticker}')\n",
    "            time.sleep(0.5)\n",
    "\n",
    "            copy_button = driver.find_element_by_xpath('//*[@id=\"__next\"]/div/main/div[3]/div/div/div/div[1]/div[1]/div[5]/button')\n",
    "            copy_button.click()\n",
    "            time.sleep(0.2)\n",
    "\n",
    "            text = pyperclip.paste()\n",
    "            \n",
    "            if quarterly == True:\n",
    "                save_path = f\"../data/stock/finance/quaterly/{nation}/{market}/{ticker}.tsv\"\n",
    "            else :\n",
    "                save_path = f\"../data/stock/finance/annual/{nation}/{market}/{ticker}.tsv\"\n",
    "                \n",
    "            with open(save_path, 'w') as f :\n",
    "                f.write(text)\n",
    "                \n",
    "        except :\n",
    "            print(\"!\", end='  ')\n",
    "            continue"
   ]
  },
  {
   "cell_type": "code",
   "execution_count": 10,
   "id": "7cb8e4fa-b242-4c9c-93de-59ba9e9b254b",
   "metadata": {
    "tags": []
   },
   "outputs": [
    {
     "name": "stdout",
     "output_type": "stream",
     "text": [
      "AAMC AAU ACU ADRA ADRT AE AEF AGE AIM AINC AIRI AMBO AMPE AMS APT AREN !  ARMP ASM ASXC ATNM AUMN AUST !  AWX AXU BATL BCV BCV^A !  BDL BDR BGI BHB BKTI BMTX BRBS BRG BRG^C !  BRG^D !  BRN BTG BTN BTTR CANF CCF CEI CET CEV CIK CIX CKX CLM CMCL CMT COHN CPHI CQP CRF CTEK CTGO CVM CVR CVU CYBN DC !  DHY DIT DLA DMF DNN DPSI DSS DXF EAD ECF ECF^A !  EIM ELA ELLO ELMD EMAN EMX ENSV ENX EP !  EPM EQX ERC ERH ESP EVBN EVI EVM EVV EXN FAX FCO FEN FRD FSI FSP FTF FURY GAU GBR !  GGN !  GGN^B !  GLDG !  GLO !  GLQ !  GLTA !  GLU !  GLU^A !  GLU^B !  GLV !  GNS !  GOED !  GORO !  GPL !  GRF !  GROY !  GSAT !  GSV !  GTE !  HNRA !  HNW !  HUSA !  HWM^ !  IAF !  IBIO !  ID !  IDR !  IDW !  IGC !  IHT !  IMH !  IMO !  INDO !  INFU !  INTT !  INUV !  IOR !  ISDR !  ISR !  ITP !  ITRG !  JOB !  KIQ !  KULR !  LCTX !  LEU !  LGL !  LNG !  LODE !  LSF !  LXFR !  MAG !  MGLD !  MHH !  MIMO !  MITQ !  MLSS !  MMX !  MSN !  MTA !  MTMT !  MTNB !  MXC !  MYO !  NAK !  NAVB !  NBH !  NBO !  NBW !  NBY !  NEN !  NEWP !  NFGC !  NG !  NGD !  NHC !  NHS !  NHWK !  NILE !  NML !  NNVC !  NRO !  NTIP !  OBE !  OGEN !  OPTT !  ORLA !  OZ !  PCG^A !  PCG^B !  PCG^C !  PCG^D !  PCG^E !  PCG^G !  PCG^H !  PCG^I !  PED !  PHGE !  PLAG !  PLG !  PLM !  PLX !  PLYM^A !  PRK !  PTN !  PW !  PW^A !  PZG !  RCG !  RCOR !  REI !  REPX !  RHE !  RHE^A !  RLGT !  RMED !  RVP !  SACC !  SACH !  SACH^A !  SBEV !  SCCB !  SCCC !  SCCD !  SCCE !  SCCF !  SDPI !  SEB !  SENS !  SIF !  SILV !  SIM !  SKYH !  SLI !  SMTS !  SNMP !  SSY !  STXS !  SVM !  SVT !  SYN !  TELL !  TELZ !  TGB !  THM !  TKAT !  TMBR !  TMP !  TMQ !  TPHS !  TRT !  TRX !  UAMY !  UAVS !  UEC !  UFAB !  URG !  USAS !  UTG !  UUU !  UUUU !  VFL !  VGZ !  VHAQ !  VINE !  VKI !  VNRX !  VZLA !  WBEV !  WLMS !  WRN !  WTT !  WWR !  WYY !  XPL !  XTNT !  YCBD !  YCBD^A !  ZDGE !  ZOM !  AAMC !  AAU !  ACU !  ADRA !  ADRT !  AE !  AEF !  AGE !  AIM !  AINC !  AIRI !  AMBO !  AMPE !  AMS !  APT !  AREN !  ARMP !  ASM !  ASXC !  ATNM !  AUMN !  AUST !  AWX !  AXU !  BATL !  BCV !  BCV^A !  BDL !  BDR !  BGI !  BHB !  BKTI !  BMTX !  BRBS !  BRG !  BRG^C !  BRG^D !  BRN !  BTG !  BTN !  BTTR !  CANF !  CCF !  CEI !  CET !  CEV !  CIK !  CIX !  CKX !  CLM !  CMCL !  CMT !  COHN !  CPHI !  CQP !  CRF !  CTEK !  CTGO !  CVM !  CVR !  CVU !  CYBN !  DC !  DHY !  DIT !  DLA !  DMF !  DNN !  DPSI !  DSS !  DXF !  EAD !  ECF !  ECF^A !  EIM !  ELA !  ELLO !  ELMD !  EMAN !  EMX !  ENSV !  ENX !  EP !  EPM !  EQX !  ERC !  ERH !  ESP !  EVBN !  EVI !  EVM !  EVV !  EXN !  FAX !  FCO !  FEN !  FRD !  FSI !  FSP !  FTF !  FURY !  GAU !  GBR !  GGN !  GGN^B !  GLDG !  GLO !  GLQ !  GLTA !  GLU !  GLU^A !  GLU^B !  GLV !  GNS !  GOED !  GORO !  GPL !  GRF !  GROY !  GSAT !  GSV !  GTE !  HNRA !  HNW !  HUSA !  HWM^ !  IAF !  IBIO !  ID !  IDR !  IDW !  IGC !  IHT !  IMH !  IMO !  INDO !  INFU !  INTT !  INUV !  IOR !  ISDR !  ISR !  ITP !  ITRG !  JOB !  KIQ !  KULR !  LCTX !  LEU !  LGL !  LNG !  LODE !  LSF !  LXFR !  MAG !  MGLD !  MHH !  MIMO !  MITQ !  MLSS !  MMX !  MSN !  MTA !  MTMT !  MTNB !  MXC !  MYO !  NAK !  NAVB !  NBH !  NBO !  NBW !  NBY !  NEN !  NEWP !  NFGC !  NG !  NGD !  NHC !  NHS !  NHWK !  NILE !  NML !  NNVC !  NRO !  NTIP !  OBE !  OGEN !  OPTT !  ORLA !  OZ !  PCG^A !  PCG^B !  PCG^C !  PCG^D !  PCG^E !  PCG^G !  PCG^H !  PCG^I !  PED !  PHGE !  PLAG !  PLG !  PLM !  PLX !  PLYM^A !  PRK !  PTN !  PW !  PW^A !  PZG !  RCG !  RCOR !  REI !  REPX !  RHE !  RHE^A !  RLGT !  RMED !  RVP !  SACC !  SACH !  SACH^A !  SBEV !  SCCB !  SCCC !  SCCD !  SCCE !  SCCF !  SDPI !  SEB !  SENS !  SIF !  SILV !  SIM !  SKYH !  SLI !  SMTS !  SNMP !  SSY !  STXS !  SVM !  SVT !  SYN !  TELL !  TELZ !  TGB !  THM !  TKAT !  TMBR !  TMP !  TMQ !  TPHS !  TRT !  TRX !  UAMY !  UAVS !  UEC !  UFAB !  URG !  USAS !  UTG !  UUU !  UUUU !  VFL !  VGZ !  VHAQ !  VINE !  VKI !  VNRX !  VZLA !  WBEV !  WLMS !  WRN !  WTT !  WWR !  WYY !  XPL !  XTNT !  YCBD !  YCBD^A !  ZDGE !  ZOM !  "
     ]
    }
   ],
   "source": [
    "for market in ['amex'] :\n",
    "    finance_crawler('us', market, quarterly=True)\n",
    "    finance_crawler('us', market, quarterly=False)\n",
    "    \n",
    "# for market in ['kospi', 'kosdaq', 'konex'] :\n",
    "#     finance_crawler('krx', market, quarterly=True)\n",
    "#     finance_crawler('krx', market, quarterly=False)"
   ]
  },
  {
   "cell_type": "code",
   "execution_count": null,
   "id": "452dfa35-f225-4be2-bb6b-d7c217588d14",
   "metadata": {},
   "outputs": [],
   "source": []
  }
 ],
 "metadata": {
  "kernelspec": {
   "display_name": "Python 3.8.12 ('base')",
   "language": "python",
   "name": "python3"
  },
  "language_info": {
   "codemirror_mode": {
    "name": "ipython",
    "version": 3
   },
   "file_extension": ".py",
   "mimetype": "text/x-python",
   "name": "python",
   "nbconvert_exporter": "python",
   "pygments_lexer": "ipython3",
   "version": "3.8.12"
  },
  "vscode": {
   "interpreter": {
    "hash": "2ebf49d0ad9e99792f999771a5c0a797203d9377bf5351608256283ba21db764"
   }
  }
 },
 "nbformat": 4,
 "nbformat_minor": 5
}
